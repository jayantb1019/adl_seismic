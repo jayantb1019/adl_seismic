{
 "cells": [
  {
   "cell_type": "code",
   "execution_count": 34,
   "id": "13232019",
   "metadata": {},
   "outputs": [],
   "source": [
    "import numpy as np \n",
    "import torch\n",
    "import pdb\n",
    "# from utils.similarity_metrics import local_similarity_map , local_correlation\n",
    "import matplotlib.pyplot as plt\n",
    "\n",
    "import seaborn as sns "
   ]
  },
  {
   "cell_type": "code",
   "execution_count": 35,
   "id": "5ea239cf",
   "metadata": {},
   "outputs": [],
   "source": [
    "noisy_image = np.load('./data/mp36-08_pstm_stk/noisy.npy')[:-1,:-1].astype('float64')\n",
    "denoised_image = np.load('./data/mp36-08_pstm_stk/denoised_image.npy').astype('float64')\n",
    "window_size = 9\n",
    "n_dims = 1\n",
    "lamb = 0.5 "
   ]
  },
  {
   "cell_type": "code",
   "execution_count": 36,
   "id": "f90bca3c",
   "metadata": {
    "scrolled": true
   },
   "outputs": [
    {
     "data": {
      "text/plain": [
       "((3000, 2648), (1, 1, 3000, 2648))"
      ]
     },
     "execution_count": 36,
     "metadata": {},
     "output_type": "execute_result"
    }
   ],
   "source": [
    "noisy_image.shape, denoised_image.shape"
   ]
  },
  {
   "cell_type": "code",
   "execution_count": 37,
   "id": "5f39cc11",
   "metadata": {},
   "outputs": [
    {
     "data": {
      "text/plain": [
       "(224395637.6661591, 7073.75244140625)"
      ]
     },
     "execution_count": 37,
     "metadata": {},
     "output_type": "execute_result"
    }
   ],
   "source": [
    "noisy_image.max(), denoised_image.max()"
   ]
  },
  {
   "cell_type": "code",
   "execution_count": 38,
   "id": "cc227d18",
   "metadata": {},
   "outputs": [],
   "source": [
    "denoised_image = np.squeeze(denoised_image)\n",
    "noise = noisy_image - denoised_image"
   ]
  },
  {
   "cell_type": "code",
   "execution_count": 39,
   "id": "acfea4e5",
   "metadata": {
    "scrolled": true
   },
   "outputs": [
    {
     "data": {
      "text/plain": [
       "(7073.75244140625, 224388563.9137177)"
      ]
     },
     "execution_count": 39,
     "metadata": {},
     "output_type": "execute_result"
    }
   ],
   "source": [
    "denoised_image.max(), noise.max()"
   ]
  },
  {
   "cell_type": "code",
   "execution_count": 7,
   "id": "775ced47",
   "metadata": {},
   "outputs": [
    {
     "data": {
      "text/plain": [
       "(4, [[4, 4], [0, 0]])"
      ]
     },
     "execution_count": 7,
     "metadata": {},
     "output_type": "execute_result"
    }
   ],
   "source": [
    "pad = window_size // 2\n",
    "pad_width = [[pad, window_size - (1 + pad)], [pad * (n_dims - 1), (window_size - (1 + pad)) * (n_dims - 1)]]\n",
    "pad, pad_width"
   ]
  },
  {
   "cell_type": "code",
   "execution_count": 8,
   "id": "32304746",
   "metadata": {},
   "outputs": [
    {
     "name": "stdout",
     "output_type": "stream",
     "text": [
      "0\n",
      "0\n"
     ]
    }
   ],
   "source": [
    "image = np.pad(denoised_image, pad_width=pad_width, mode='mean')\n",
    "image_noise = np.pad(noise, pad_width=pad_width, mode='mean')\n",
    "\n",
    "window_shape=[window_size, window_size if n_dims == 2 else 1]\n",
    "image_view = np.lib.stride_tricks.sliding_window_view(image, window_shape=window_shape).astype('float64')\n",
    "image_noise_view = np.lib.stride_tricks.sliding_window_view(image_noise, window_shape=window_shape,).astype('float64')\n",
    "\n",
    "straighten = (np.dot(*image_view.shape[:2]), np.dot(*image_view.shape[2:]))\n",
    "image_view = image_view.reshape(straighten)\n",
    "image_noise_view = image_noise_view.reshape(straighten)\n",
    "\n",
    "H = np.eye(window_size**n_dims, dtype='float64') * lamb\n",
    "print(np.isnan(H).sum())\n",
    "H = np.lib.stride_tricks.as_strided(H, shape=(image_view.shape[0], window_size**n_dims, window_size**n_dims),\n",
    "                                        strides=(0, 8 * window_size**n_dims, 8))\n",
    "print(np.isnan(H).sum())"
   ]
  },
  {
   "cell_type": "code",
   "execution_count": 9,
   "id": "82e5a448",
   "metadata": {},
   "outputs": [
    {
     "data": {
      "text/plain": [
       "(7944000, 9, 9)"
      ]
     },
     "execution_count": 9,
     "metadata": {},
     "output_type": "execute_result"
    }
   ],
   "source": [
    "image_view.shape[0], window_size**n_dims, window_size**n_dims"
   ]
  },
  {
   "cell_type": "code",
   "execution_count": 10,
   "id": "3f27b48f",
   "metadata": {},
   "outputs": [
    {
     "data": {
      "text/plain": [
       "(0, 72, 8)"
      ]
     },
     "execution_count": 10,
     "metadata": {},
     "output_type": "execute_result"
    }
   ],
   "source": [
    "0, 8 * window_size**n_dims, 8"
   ]
  },
  {
   "cell_type": "code",
   "execution_count": 11,
   "id": "f0ccc653",
   "metadata": {},
   "outputs": [
    {
     "data": {
      "text/plain": [
       "(7944000, 9)"
      ]
     },
     "execution_count": 11,
     "metadata": {},
     "output_type": "execute_result"
    }
   ],
   "source": [
    "image_view.shape"
   ]
  },
  {
   "cell_type": "code",
   "execution_count": 12,
   "id": "b65389ea",
   "metadata": {},
   "outputs": [],
   "source": [
    "device = 'cuda'\n",
    "\n",
    "H = torch.from_numpy(H).to(device=device)\n",
    "\n",
    "a = torch.from_numpy(image_view).to(device=device)\n",
    "b = torch.from_numpy(image_noise_view).to(device=device)"
   ]
  },
  {
   "cell_type": "code",
   "execution_count": 13,
   "id": "6e289dc9",
   "metadata": {},
   "outputs": [],
   "source": [
    "A = torch.zeros((*a.shape, a.shape[-1]), dtype=torch.float64).to(device)\n",
    "B = torch.zeros((*b.shape, b.shape[-1]), dtype=torch.float64).to(device)\n",
    "\n",
    "A[:] = torch.diag_embed(torch.diagonal(a[:]))\n",
    "B[:] = torch.diag_embed(torch.diagonal(b[:]))"
   ]
  },
  {
   "cell_type": "code",
   "execution_count": 14,
   "id": "3585937a",
   "metadata": {},
   "outputs": [
    {
     "data": {
      "text/plain": [
       "(torch.Size([7944000, 9]),\n",
       " torch.float64,\n",
       " torch.Size([7944000, 9, 9]),\n",
       " torch.float64,\n",
       " torch.Size([7944000, 9]),\n",
       " torch.float64,\n",
       " torch.Size([7944000, 9, 9]),\n",
       " torch.float64)"
      ]
     },
     "execution_count": 14,
     "metadata": {},
     "output_type": "execute_result"
    }
   ],
   "source": [
    "a.shape,a.dtype, A.shape,A.dtype, b.shape, b.dtype, B.shape, B.dtype"
   ]
  },
  {
   "cell_type": "code",
   "execution_count": 15,
   "id": "adccf58a",
   "metadata": {},
   "outputs": [
    {
     "data": {
      "text/plain": [
       "tensor(7073.7524, device='cuda:0', dtype=torch.float64)"
      ]
     },
     "execution_count": 15,
     "metadata": {},
     "output_type": "execute_result"
    }
   ],
   "source": [
    "torch.diagonal(a).max()"
   ]
  },
  {
   "cell_type": "code",
   "execution_count": 16,
   "id": "cb8e91dc",
   "metadata": {},
   "outputs": [],
   "source": [
    "def shaping_conjugate_gradient(L, H, d, lamb, tol=1e-5, N=4):\n",
    "    \"\"\"Vectorised Shaping Conjugate gradient Algorithm for a system with smoothing operator.\n",
    "    Fomel, Sergey. \"`Shaping regularization in geophysical-estimation problems\n",
    "    <https://library.seg.org/doi/10.1190/1.2433716>`_\"\n",
    "    \"\"\"\n",
    "#     pdb.set_trace()\n",
    "    device='cuda'\n",
    "    p = torch.zeros_like(d).to(device)\n",
    "    m = torch.zeros_like(d).to(device)\n",
    "    r = -1 * torch.ones_like(d) * d\n",
    "    sp = torch.zeros_like(d).to(device)\n",
    "    sm = torch.zeros_like(d).to(device)\n",
    "    sr = torch.zeros_like(d).to(device)\n",
    "    EPS = 1e-5\n",
    "    \n",
    "    for i in range(N):\n",
    "        print(f'Iteration {i}')\n",
    "        gm = (torch.matmul(torch.permute(L,[0, 2, 1]),r.view(*r.shape, 1))).squeeze() - lamb * m\n",
    "        gp = (torch.matmul(torch.permute(H,[0, 2, 1]),gm.view(*gm.shape, 1))).squeeze() + lamb * p\n",
    "        gm = torch.matmul(H , gp.view(*gp.shape, 1))\n",
    "        gr = torch.matmul(L,gm)\n",
    "\n",
    "        rho = torch.sum(gp ** 2, axis=1)\n",
    "        if i == 0:\n",
    "            beta = torch.zeros((L.shape[0], 1)).to(device)\n",
    "            rho0 = rho\n",
    "        else:\n",
    "            beta = (rho / (rho_hat + EPS)).view(*rho.shape,1)\n",
    "            if torch.all(beta < tol) or torch.all(rho / (rho0 + EPS) < tol):\n",
    "                return m\n",
    "\n",
    "        sp = gp + beta * sp\n",
    "        sm = gm.squeeze() + beta * sm\n",
    "        sr = gr.squeeze() + beta * sr\n",
    "\n",
    "        alpha = rho / (torch.sum(sr ** 2, axis=1) + lamb * torch.sum(sp ** 2, axis=1) - torch.sum(sm ** 2, axis=1) + EPS)\n",
    "        alpha = alpha.view(*alpha.shape, 1)\n",
    "\n",
    "        p -= alpha * sp\n",
    "        m -= alpha * sm\n",
    "        r -= alpha * sr\n",
    "        rho_hat = rho\n",
    "#         pdb.set_trace()\n",
    "    return m"
   ]
  },
  {
   "cell_type": "code",
   "execution_count": 17,
   "id": "78ed0037",
   "metadata": {},
   "outputs": [
    {
     "name": "stdout",
     "output_type": "stream",
     "text": [
      "Iteration 0\n",
      "Iteration 1\n",
      "Iteration 2\n",
      "Iteration 3\n",
      "Iteration 0\n",
      "Iteration 1\n",
      "Iteration 2\n",
      "Iteration 3\n"
     ]
    }
   ],
   "source": [
    "lamb1 = 1\n",
    "lamb2 = 1\n",
    "\n",
    "c1 = shaping_conjugate_gradient(A, H, b, lamb1)\n",
    "c1 = c1.to(device='cpu')\n",
    "c2 = shaping_conjugate_gradient(B, H, a, lamb2)\n",
    "c2 = c2.to(device='cpu')\n",
    "\n",
    "similarity_map = torch.sum(c1 * c2, axis=1)"
   ]
  },
  {
   "cell_type": "code",
   "execution_count": 18,
   "id": "a0563ac0",
   "metadata": {},
   "outputs": [
    {
     "data": {
      "text/plain": [
       "tensor([[-8.3630e-01,  1.1602e+00,  5.0419e-01,  ..., -1.5055e+02,\n",
       "         -4.8595e+01,  7.0353e+02],\n",
       "        [-1.0341e+00,  1.4344e+00,  6.2331e-01,  ...,  1.2321e+06,\n",
       "         -1.0274e+02,  4.1564e+03],\n",
       "        [ 2.6167e+00, -3.6295e+00, -1.5772e+00,  ...,  1.4124e+06,\n",
       "         -1.4806e+03,  2.2385e+03],\n",
       "        ...,\n",
       "        [ 1.0152e+00, -3.1409e+00, -3.8176e+00,  ..., -2.9495e+03,\n",
       "          6.9566e+00,  6.9566e+00],\n",
       "        [ 2.7627e+00, -4.4635e+00, -1.8016e+00,  ..., -2.9099e+03,\n",
       "          7.3096e+00,  7.3096e+00],\n",
       "        [ 6.3943e-01, -7.1877e+00, -2.6078e+00,  ..., -1.7117e+03,\n",
       "          5.8328e+00,  5.8328e+00]], dtype=torch.float64)"
      ]
     },
     "execution_count": 18,
     "metadata": {},
     "output_type": "execute_result"
    }
   ],
   "source": [
    "c1"
   ]
  },
  {
   "cell_type": "code",
   "execution_count": 19,
   "id": "4980fc09",
   "metadata": {},
   "outputs": [
    {
     "data": {
      "text/plain": [
       "tensor([[ 5.3604e-01,  6.5012e-01, -1.1491e+00,  ...,  1.7109e-03,\n",
       "         -4.2279e-05, -1.0815e+00],\n",
       "        [ 5.3405e-01,  6.4770e-01, -1.1448e+00,  ...,  1.7109e-03,\n",
       "         -4.2279e-05, -1.0816e+00],\n",
       "        [ 5.3457e-01,  6.4833e-01, -1.1459e+00,  ...,  1.7109e-03,\n",
       "         -4.2279e-05, -1.0816e+00],\n",
       "        ...,\n",
       "        [ 1.0950e+00,  1.3264e+00, -2.2811e+00,  ..., -3.8252e-01,\n",
       "          9.2835e-03, -4.2474e-01],\n",
       "        [ 1.1245e+00,  1.3619e+00, -2.3304e+00,  ..., -3.9165e-01,\n",
       "          9.2538e-03, -4.1124e-01],\n",
       "        [ 1.1246e+00,  1.3620e+00, -2.3302e+00,  ..., -3.9055e-01,\n",
       "          9.2269e-03, -4.0928e-01]], dtype=torch.float64)"
      ]
     },
     "execution_count": 19,
     "metadata": {},
     "output_type": "execute_result"
    }
   ],
   "source": [
    "c2"
   ]
  },
  {
   "cell_type": "code",
   "execution_count": 20,
   "id": "427ee5d6",
   "metadata": {},
   "outputs": [],
   "source": [
    "sim = torch.sum(c1 * c2, axis=1)"
   ]
  },
  {
   "cell_type": "code",
   "execution_count": 21,
   "id": "d3bc7d86",
   "metadata": {},
   "outputs": [],
   "source": [
    "sim = sim.numpy()\n",
    "sim = sim.reshape((3000,-1))"
   ]
  },
  {
   "cell_type": "code",
   "execution_count": 1,
   "id": "89f33ec9",
   "metadata": {
    "scrolled": false
   },
   "outputs": [
    {
     "ename": "NameError",
     "evalue": "name 'plt' is not defined",
     "output_type": "error",
     "traceback": [
      "\u001b[0;31m---------------------------------------------------------------------------\u001b[0m",
      "\u001b[0;31mNameError\u001b[0m                                 Traceback (most recent call last)",
      "Cell \u001b[0;32mIn [1], line 1\u001b[0m\n\u001b[0;32m----> 1\u001b[0m \u001b[43mplt\u001b[49m\u001b[38;5;241m.\u001b[39mfigure(figsize\u001b[38;5;241m=\u001b[39m(\u001b[38;5;241m60\u001b[39m,\u001b[38;5;241m20\u001b[39m))\n\u001b[1;32m      2\u001b[0m image \u001b[38;5;241m=\u001b[39m sns\u001b[38;5;241m.\u001b[39mheatmap(sim \u001b[38;5;241m/\u001b[39m sim\u001b[38;5;241m.\u001b[39mmax(), cmap \u001b[38;5;241m=\u001b[39m plt\u001b[38;5;241m.\u001b[39mcm\u001b[38;5;241m.\u001b[39mjet)\n",
      "\u001b[0;31mNameError\u001b[0m: name 'plt' is not defined"
     ]
    }
   ],
   "source": [
    "plt.figure(figsize=(60,20))\n",
    "image = sns.heatmap(sim / sim.max(), cmap = plt.cm.jet)"
   ]
  },
  {
   "cell_type": "code",
   "execution_count": 1,
   "id": "b5aa1628",
   "metadata": {},
   "outputs": [
    {
     "name": "stdout",
     "output_type": "stream",
     "text": [
      "Iteration 0\n",
      "Iteration 1\n",
      "Iteration 2\n",
      "Iteration 3\n",
      "Iteration 0\n",
      "Iteration 1\n",
      "Iteration 2\n",
      "Iteration 3\n"
     ]
    }
   ],
   "source": [
    "import numpy as np\n",
    "from utils.similarity_metrics import local_similarity_map_gpu , local_correlation\n",
    "\n",
    "noisy_image = np.load('./data/mp36-08_pstm_stk/noisy.npy')[:-1,:-1].astype('float64')\n",
    "denoised_image = np.load('./data/mp36-08_pstm_stk/denoised_image.npy').astype('float64')\n",
    "\n",
    "denoised_image = np.squeeze(denoised_image)\n",
    "noise = noisy_image - denoised_image\n",
    "\n",
    "sim_map = local_similarity_map_gpu(denoised_image, noise, lamb=0.5, window_size=9, n_dims=1)"
   ]
  },
  {
   "cell_type": "code",
   "execution_count": 3,
   "id": "257ba549",
   "metadata": {},
   "outputs": [
    {
     "data": {
      "text/plain": [
       "torch.Size([3000, 2648])"
      ]
     },
     "execution_count": 3,
     "metadata": {},
     "output_type": "execute_result"
    }
   ],
   "source": [
    "sim_map.shape"
   ]
  },
  {
   "cell_type": "code",
   "execution_count": null,
   "id": "c7e9553a",
   "metadata": {},
   "outputs": [],
   "source": []
  }
 ],
 "metadata": {
  "kernelspec": {
   "display_name": "Python 3 (ipykernel)",
   "language": "python",
   "name": "python3"
  },
  "language_info": {
   "codemirror_mode": {
    "name": "ipython",
    "version": 3
   },
   "file_extension": ".py",
   "mimetype": "text/x-python",
   "name": "python",
   "nbconvert_exporter": "python",
   "pygments_lexer": "ipython3",
   "version": "3.9.13"
  }
 },
 "nbformat": 4,
 "nbformat_minor": 5
}
