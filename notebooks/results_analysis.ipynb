{
 "cells": [
  {
   "cell_type": "code",
   "execution_count": 26,
   "metadata": {},
   "outputs": [],
   "source": [
    "import pandas as pd \n"
   ]
  },
  {
   "cell_type": "code",
   "execution_count": 27,
   "metadata": {},
   "outputs": [],
   "source": [
    "ADL_RESULTS = '/Users/jayanthboddu/Desktop/data_science/upgrad/MSDS/experiments_feb/results/adl_results.csv'\n",
    "DNCNN_RESULTS = '/Users/jayanthboddu/Desktop/data_science/upgrad/MSDS/experiments_feb/results/conventional_results.csv'\n",
    "CONVENTIONAL_RESULTS = '/Users/jayanthboddu/Desktop/data_science/upgrad/MSDS/experiments_feb/results/conventional_results.csv'"
   ]
  },
  {
   "cell_type": "code",
   "execution_count": 28,
   "metadata": {},
   "outputs": [
    {
     "data": {
      "text/html": [
       "<div>\n",
       "<style scoped>\n",
       "    .dataframe tbody tr th:only-of-type {\n",
       "        vertical-align: middle;\n",
       "    }\n",
       "\n",
       "    .dataframe tbody tr th {\n",
       "        vertical-align: top;\n",
       "    }\n",
       "\n",
       "    .dataframe thead th {\n",
       "        text-align: right;\n",
       "    }\n",
       "</style>\n",
       "<table border=\"1\" class=\"dataframe\">\n",
       "  <thead>\n",
       "    <tr style=\"text-align: right;\">\n",
       "      <th></th>\n",
       "      <th>timestamp</th>\n",
       "      <th>dataset</th>\n",
       "      <th>model_noise_type</th>\n",
       "      <th>model_noise_level</th>\n",
       "      <th>test_noise_type</th>\n",
       "      <th>test_noise_level</th>\n",
       "      <th>noisy_mae</th>\n",
       "      <th>noisy_psnr</th>\n",
       "      <th>noisy_ssim</th>\n",
       "      <th>denosied_mae</th>\n",
       "      <th>denoised_psnr</th>\n",
       "      <th>denoised_ssim</th>\n",
       "    </tr>\n",
       "  </thead>\n",
       "  <tbody>\n",
       "    <tr>\n",
       "      <th>0</th>\n",
       "      <td>09_03_2023_15_55_40</td>\n",
       "      <td>faciesmark</td>\n",
       "      <td>gaussian</td>\n",
       "      <td>0.01</td>\n",
       "      <td>gaussian</td>\n",
       "      <td>0.001</td>\n",
       "      <td>0.025225</td>\n",
       "      <td>35.981522</td>\n",
       "      <td>0.876269</td>\n",
       "      <td>0.028770</td>\n",
       "      <td>34.792881</td>\n",
       "      <td>0.861482</td>\n",
       "    </tr>\n",
       "    <tr>\n",
       "      <th>1</th>\n",
       "      <td>09_03_2023_15_56_38</td>\n",
       "      <td>faciesmark</td>\n",
       "      <td>gaussian</td>\n",
       "      <td>0.01</td>\n",
       "      <td>gaussian</td>\n",
       "      <td>0.010</td>\n",
       "      <td>0.079756</td>\n",
       "      <td>25.982988</td>\n",
       "      <td>0.493576</td>\n",
       "      <td>0.012733</td>\n",
       "      <td>39.960850</td>\n",
       "      <td>0.968157</td>\n",
       "    </tr>\n",
       "    <tr>\n",
       "      <th>2</th>\n",
       "      <td>09_03_2023_15_57_39</td>\n",
       "      <td>faciesmark</td>\n",
       "      <td>gaussian</td>\n",
       "      <td>0.01</td>\n",
       "      <td>gaussian</td>\n",
       "      <td>0.025</td>\n",
       "      <td>0.126069</td>\n",
       "      <td>22.006741</td>\n",
       "      <td>0.302653</td>\n",
       "      <td>0.029403</td>\n",
       "      <td>33.481041</td>\n",
       "      <td>0.864446</td>\n",
       "    </tr>\n",
       "    <tr>\n",
       "      <th>3</th>\n",
       "      <td>09_03_2023_15_58_41</td>\n",
       "      <td>faciesmark</td>\n",
       "      <td>gaussian</td>\n",
       "      <td>0.01</td>\n",
       "      <td>gaussian</td>\n",
       "      <td>0.050</td>\n",
       "      <td>0.178140</td>\n",
       "      <td>19.007685</td>\n",
       "      <td>0.185704</td>\n",
       "      <td>0.066765</td>\n",
       "      <td>26.847404</td>\n",
       "      <td>0.592417</td>\n",
       "    </tr>\n",
       "    <tr>\n",
       "      <th>4</th>\n",
       "      <td>09_03_2023_15_59_45</td>\n",
       "      <td>faciesmark</td>\n",
       "      <td>gaussian</td>\n",
       "      <td>0.01</td>\n",
       "      <td>gaussian</td>\n",
       "      <td>0.100</td>\n",
       "      <td>0.250926</td>\n",
       "      <td>16.055981</td>\n",
       "      <td>0.104373</td>\n",
       "      <td>0.118070</td>\n",
       "      <td>22.145761</td>\n",
       "      <td>0.336863</td>\n",
       "    </tr>\n",
       "  </tbody>\n",
       "</table>\n",
       "</div>"
      ],
      "text/plain": [
       "             timestamp     dataset model_noise_type  model_noise_level  \\\n",
       "0  09_03_2023_15_55_40  faciesmark         gaussian               0.01   \n",
       "1  09_03_2023_15_56_38  faciesmark         gaussian               0.01   \n",
       "2  09_03_2023_15_57_39  faciesmark         gaussian               0.01   \n",
       "3  09_03_2023_15_58_41  faciesmark         gaussian               0.01   \n",
       "4  09_03_2023_15_59_45  faciesmark         gaussian               0.01   \n",
       "\n",
       "  test_noise_type  test_noise_level  noisy_mae  noisy_psnr  noisy_ssim  \\\n",
       "0        gaussian             0.001   0.025225   35.981522    0.876269   \n",
       "1        gaussian             0.010   0.079756   25.982988    0.493576   \n",
       "2        gaussian             0.025   0.126069   22.006741    0.302653   \n",
       "3        gaussian             0.050   0.178140   19.007685    0.185704   \n",
       "4        gaussian             0.100   0.250926   16.055981    0.104373   \n",
       "\n",
       "   denosied_mae  denoised_psnr  denoised_ssim  \n",
       "0      0.028770      34.792881       0.861482  \n",
       "1      0.012733      39.960850       0.968157  \n",
       "2      0.029403      33.481041       0.864446  \n",
       "3      0.066765      26.847404       0.592417  \n",
       "4      0.118070      22.145761       0.336863  "
      ]
     },
     "execution_count": 28,
     "metadata": {},
     "output_type": "execute_result"
    }
   ],
   "source": [
    "adl_results = pd.read_csv(ADL_RESULTS)\n",
    "adl_results.head()"
   ]
  },
  {
   "cell_type": "code",
   "execution_count": 29,
   "metadata": {},
   "outputs": [
    {
     "name": "stdout",
     "output_type": "stream",
     "text": [
      "<class 'pandas.core.frame.DataFrame'>\n",
      "RangeIndex: 189 entries, 0 to 188\n",
      "Data columns (total 12 columns):\n",
      " #   Column             Non-Null Count  Dtype  \n",
      "---  ------             --------------  -----  \n",
      " 0   timestamp          189 non-null    object \n",
      " 1   dataset            189 non-null    object \n",
      " 2   model_noise_type   189 non-null    object \n",
      " 3   model_noise_level  189 non-null    float64\n",
      " 4   test_noise_type    189 non-null    object \n",
      " 5   test_noise_level   189 non-null    float64\n",
      " 6   noisy_mae          189 non-null    float64\n",
      " 7   noisy_psnr         189 non-null    float64\n",
      " 8   noisy_ssim         189 non-null    float64\n",
      " 9   denosied_mae       189 non-null    float64\n",
      " 10  denoised_psnr      189 non-null    float64\n",
      " 11  denoised_ssim      189 non-null    float64\n",
      "dtypes: float64(8), object(4)\n",
      "memory usage: 17.8+ KB\n"
     ]
    }
   ],
   "source": [
    "adl_results.info()"
   ]
  },
  {
   "cell_type": "code",
   "execution_count": 30,
   "metadata": {},
   "outputs": [
    {
     "data": {
      "text/plain": [
       "[0.01, 0.05, 0.1, 0.5]"
      ]
     },
     "metadata": {},
     "output_type": "display_data"
    },
    {
     "data": {
      "text/plain": [
       "['gaussian', 'poisson', 'lpf', 'mixed', 'truly_random']"
      ]
     },
     "metadata": {},
     "output_type": "display_data"
    }
   ],
   "source": [
    "# top results by noise type and level \n",
    "noise_types = adl_results['model_noise_level'].unique().tolist()\n",
    "noise_levels = adl_results['model_noise_type'].unique().tolist()\n",
    "display(noise_types, noise_levels)"
   ]
  },
  {
   "cell_type": "code",
   "execution_count": 31,
   "metadata": {},
   "outputs": [],
   "source": [
    "adl_results['model_noise_level']  = adl_results['model_noise_level'].astype('category')\n",
    "adl_results['test_noise_level'] = adl_results['test_noise_level'].astype('category')"
   ]
  },
  {
   "cell_type": "code",
   "execution_count": 32,
   "metadata": {},
   "outputs": [
    {
     "data": {
      "text/plain": [
       "model_noise_type  model_noise_level\n",
       "gaussian          0.01                 35.981522\n",
       "                  0.05                 35.981522\n",
       "                  0.1                  35.981522\n",
       "                  0.5                  35.981522\n",
       "lpf               0.01                       NaN\n",
       "                  0.05                       NaN\n",
       "                  0.1                  45.732265\n",
       "                  0.5                        NaN\n",
       "mixed             0.01                 35.981522\n",
       "                  0.05                       NaN\n",
       "                  0.1                        NaN\n",
       "                  0.5                        NaN\n",
       "poisson           0.01                       NaN\n",
       "                  0.05                       NaN\n",
       "                  0.1                  29.041374\n",
       "                  0.5                        NaN\n",
       "truly_random      0.01                 45.732265\n",
       "                  0.05                       NaN\n",
       "                  0.1                        NaN\n",
       "                  0.5                        NaN\n",
       "Name: noisy_psnr, dtype: float64"
      ]
     },
     "execution_count": 32,
     "metadata": {},
     "output_type": "execute_result"
    }
   ],
   "source": [
    "adl_results.groupby(['model_noise_type','model_noise_level'])['noisy_psnr'].max()"
   ]
  },
  {
   "cell_type": "code",
   "execution_count": null,
   "metadata": {},
   "outputs": [],
   "source": []
  }
 ],
 "metadata": {
  "kernelspec": {
   "display_name": "lightning-mps",
   "language": "python",
   "name": "python3"
  },
  "language_info": {
   "codemirror_mode": {
    "name": "ipython",
    "version": 3
   },
   "file_extension": ".py",
   "mimetype": "text/x-python",
   "name": "python",
   "nbconvert_exporter": "python",
   "pygments_lexer": "ipython3",
   "version": "3.8.13"
  },
  "orig_nbformat": 4
 },
 "nbformat": 4,
 "nbformat_minor": 2
}
