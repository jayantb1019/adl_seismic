{
 "cells": [
  {
   "cell_type": "markdown",
   "metadata": {},
   "source": [
    "# Train-val-test split"
   ]
  },
  {
   "cell_type": "code",
   "execution_count": 1,
   "metadata": {},
   "outputs": [],
   "source": [
    "import numpy as np"
   ]
  },
  {
   "cell_type": "code",
   "execution_count": 2,
   "metadata": {},
   "outputs": [],
   "source": [
    "# PREPROCESSED FILE PATHS \n",
    "\n",
    "# interpretation\n",
    "INTERPRETATION_VOL_PATH_PREPROCESSED = '../data/preprocessed/f3_interpretation/inline_vol.npy'\n",
    "INTERPRETATION_LABEL_PATH_PREPROCESSED = '../data/preprocessed/f3_interpretation/inline_label.npy'\n",
    "\n",
    "# faciesmark dataset \n",
    "FACIESMARK_VOL_PATH_PREPROCESSED = '../data/preprocessed/faciesmark/raw/seismic_entire_volume.npy'\n",
    "FACIESMARK_LABEL_PATH_PREPROCESSED = '../data/preprocessed/faciesmark/raw/labels_entire_volume.npy'\n",
    "\n",
    "\n",
    "# stdata12 dataset \n",
    "STDATA_VOL_PATH_PREPROCESSED = '../data/preprocessed/stdata12/stdata_12_amplitude.npy'\n",
    "STDATA_LABEL_PATH_PREPROCESSED = '../data/preprocessed/stdata12/stdata_12_labels.npy'"
   ]
  },
  {
   "cell_type": "code",
   "execution_count": 3,
   "metadata": {},
   "outputs": [],
   "source": [
    "\n",
    "def summary_stats(vol) : \n",
    "    print(f'''\n",
    "    Shape : {vol.shape}\n",
    "    Mean : {np.mean(vol)}\n",
    "    Stdev : {np.std(vol)}\n",
    "    Min : {np.min(vol)}\n",
    "    Median : {np.median(vol)}\n",
    "    99th Percentile of Abs : {np.quantile(np.abs(vol), 0.99)}\n",
    "    Max : {np.max(vol)}\n",
    "    Null values : {np.sum(np.isnan(vol))}\n",
    "    \n",
    "    ''')\n",
    "\n"
   ]
  },
  {
   "cell_type": "code",
   "execution_count": 4,
   "metadata": {},
   "outputs": [],
   "source": [
    "split_factor = [0.80,0.10,0.10]\n",
    "\n",
    "\n",
    "def split_dset(vol, label,split_factor) : \n",
    "\n",
    "    nlines = vol.shape[0]\n",
    "\n",
    "    train_inlines_end = int(split_factor[0] * nlines)\n",
    "    val_inlines_range = [train_inlines_end,train_inlines_end + int(nlines * split_factor[1])  ]\n",
    "    test_inlines_start = val_inlines_range[-1]\n",
    "\n",
    "    train_dset = vol[:train_inlines_end]\n",
    "    train_labels = label[:train_inlines_end]\n",
    "\n",
    "    val_dset = vol[val_inlines_range[0] : val_inlines_range[1]]\n",
    "    val_labels = label[val_inlines_range[0] : val_inlines_range[1]]\n",
    "\n",
    "    test_dset = vol[test_inlines_start :]\n",
    "    test_labels = label[test_inlines_start :]\n",
    "\n",
    "    print(f'''\n",
    "    Dataset splits : \n",
    "    Train Vol : {train_dset.shape}\n",
    "    Train_Labels : {train_labels.shape}\n",
    "\n",
    "    Val Vol : {val_dset.shape}\n",
    "    Val Labels : {val_labels.shape}\n",
    "\n",
    "    Test Vol : {test_dset.shape}\n",
    "    Test Labels : {test_labels.shape}\n",
    "    ''')\n",
    "\n",
    "    return train_dset, train_labels, val_dset, val_labels, test_dset, test_labels\n",
    "\n",
    "\n"
   ]
  },
  {
   "cell_type": "markdown",
   "metadata": {},
   "source": [
    "## INTERPRETATION"
   ]
  },
  {
   "cell_type": "code",
   "execution_count": 5,
   "metadata": {},
   "outputs": [
    {
     "name": "stdout",
     "output_type": "stream",
     "text": [
      "\n",
      "    Shape : (601, 951, 361)\n",
      "    Mean : 0.002223885850980878\n",
      "    Stdev : 0.1940867155790329\n",
      "    Min : -0.9734795689582825\n",
      "    Median : 0.0035521062090992928\n",
      "    99th Percentile of Abs : 0.43072309792041796\n",
      "    Max : 1.0\n",
      "    Null values : 0\n",
      "    \n",
      "    \n"
     ]
    }
   ],
   "source": [
    "vol_int = np.load(INTERPRETATION_VOL_PATH_PREPROCESSED)\n",
    "label_int = np.load(INTERPRETATION_LABEL_PATH_PREPROCESSED)\n",
    "\n",
    "summary_stats(vol_int)"
   ]
  },
  {
   "cell_type": "code",
   "execution_count": 6,
   "metadata": {},
   "outputs": [
    {
     "name": "stdout",
     "output_type": "stream",
     "text": [
      "\n",
      "    Dataset splits : \n",
      "    Train Vol : (480, 951, 361)\n",
      "    Train_Labels : (480, 951, 361)\n",
      "\n",
      "    Val Vol : (60, 951, 361)\n",
      "    Val Labels : (60, 951, 361)\n",
      "\n",
      "    Test Vol : (61, 951, 361)\n",
      "    Test Labels : (61, 951, 361)\n",
      "    \n"
     ]
    }
   ],
   "source": [
    "train_dset, train_labels, val_dset, val_labels, test_dset, test_labels = split_dset(vol_int, label_int,split_factor)"
   ]
  },
  {
   "cell_type": "code",
   "execution_count": 7,
   "metadata": {},
   "outputs": [],
   "source": [
    "import os \n",
    "INTERPRETATION_DIR = '../data/preprocessed/f3_interpretation'\n",
    "\n",
    "np.save(os.path.join(INTERPRETATION_DIR, 'train_inline_vol.npy'), train_dset)\n",
    "np.save(os.path.join(INTERPRETATION_DIR, 'train_inline_labels.npy'), train_labels)\n",
    "\n",
    "np.save(os.path.join(INTERPRETATION_DIR, 'val_inline_vol.npy'), val_dset)\n",
    "np.save(os.path.join(INTERPRETATION_DIR, 'val_inline_labels.npy'), val_labels)\n",
    "\n",
    "np.save(os.path.join(INTERPRETATION_DIR, 'test_inline_vol.npy'), test_dset)\n",
    "np.save(os.path.join(INTERPRETATION_DIR, 'test_inline_labels.npy'), test_labels)"
   ]
  },
  {
   "attachments": {},
   "cell_type": "markdown",
   "metadata": {},
   "source": [
    "## FACIESMARK"
   ]
  },
  {
   "cell_type": "code",
   "execution_count": 11,
   "metadata": {},
   "outputs": [
    {
     "name": "stdout",
     "output_type": "stream",
     "text": [
      "\n",
      "    Shape : (599, 901, 255)\n",
      "    Mean : 0.0017854898587952805\n",
      "    Stdev : 0.2110130278058498\n",
      "    Min : -1.0\n",
      "    Median : 0.006975908663622733\n",
      "    99th Percentile of Abs : 0.759497063116162\n",
      "    Max : 1.0\n",
      "    Null values : 0\n",
      "    \n",
      "    \n",
      "\n",
      "    Dataset splits : \n",
      "    Train Vol : (479, 901, 255)\n",
      "    Train_Labels : (479, 901, 255)\n",
      "\n",
      "    Val Vol : (59, 901, 255)\n",
      "    Val Labels : (59, 901, 255)\n",
      "\n",
      "    Test Vol : (61, 901, 255)\n",
      "    Test Labels : (61, 901, 255)\n",
      "    \n"
     ]
    }
   ],
   "source": [
    "vol_f = np.load(FACIESMARK_VOL_PATH_PREPROCESSED)\n",
    "label_f= np.load(FACIESMARK_LABEL_PATH_PREPROCESSED)\n",
    "\n",
    "split_factor = [0.8,0.1,0.1]\n",
    "\n",
    "summary_stats(vol_f)\n",
    "\n",
    "train_dset, train_labels, val_dset, val_labels, test_dset, test_labels = split_dset(vol_f, label_f,split_factor)\n",
    "\n",
    "FACIESMARK_DIR = '../data/preprocessed/faciesmark'\n",
    "\n",
    "np.save(os.path.join(FACIESMARK_DIR, 'train_inline_vol.npy'), train_dset)\n",
    "np.save(os.path.join(FACIESMARK_DIR, 'train_inline_labels.npy'), train_labels)\n",
    "\n",
    "np.save(os.path.join(FACIESMARK_DIR, 'val_inline_vol.npy'), val_dset)\n",
    "np.save(os.path.join(FACIESMARK_DIR, 'val_inline_labels.npy'), val_labels)\n",
    "\n",
    "np.save(os.path.join(FACIESMARK_DIR, 'test_inline_vol.npy'), test_dset)\n",
    "np.save(os.path.join(FACIESMARK_DIR, 'test_inline_labels.npy'), test_labels)"
   ]
  },
  {
   "cell_type": "markdown",
   "metadata": {},
   "source": [
    "## STDATA-12 \n"
   ]
  },
  {
   "cell_type": "code",
   "execution_count": 9,
   "metadata": {},
   "outputs": [
    {
     "name": "stdout",
     "output_type": "stream",
     "text": [
      "\n",
      "    Shape : (4, 951, 362)\n",
      "    Mean : 0.0023937253281474113\n",
      "    Stdev : 0.23796683549880981\n",
      "    Min : -0.9788158535957336\n",
      "    Median : 0.0\n",
      "    99th Percentile of Abs : 0.5281193411350251\n",
      "    Max : 1.0\n",
      "    Null values : 0\n",
      "    \n",
      "    \n",
      "\n",
      "    Dataset splits : \n",
      "    Train Vol : (2, 951, 362)\n",
      "    Train_Labels : (2, 951, 362)\n",
      "\n",
      "    Val Vol : (1, 951, 362)\n",
      "    Val Labels : (1, 951, 362)\n",
      "\n",
      "    Test Vol : (1, 951, 362)\n",
      "    Test Labels : (1, 951, 362)\n",
      "    \n"
     ]
    }
   ],
   "source": [
    "vol_ST = np.load(STDATA_VOL_PATH_PREPROCESSED)\n",
    "label_ST= np.load(STDATA_LABEL_PATH_PREPROCESSED)\n",
    "\n",
    "summary_stats(vol_ST)\n",
    "\n",
    "split_factor = [0.50,0.25,0.25]\n",
    "\n",
    "train_dset, train_labels, val_dset, val_labels, test_dset, test_labels = split_dset(vol_ST, label_ST,split_factor)\n",
    "\n",
    "STDATA_DIR = '../data/preprocessed/stdata12'\n",
    "\n",
    "np.save(os.path.join(STDATA_DIR, 'train_inline_vol.npy'), train_dset)\n",
    "np.save(os.path.join(STDATA_DIR, 'train_inline_labels.npy'), train_labels)\n",
    "\n",
    "np.save(os.path.join(STDATA_DIR, 'val_inline_vol.npy'), val_dset)\n",
    "np.save(os.path.join(STDATA_DIR, 'val_inline_labels.npy'), val_labels)\n",
    "\n",
    "np.save(os.path.join(STDATA_DIR, 'test_inline_vol.npy'), test_dset)\n",
    "np.save(os.path.join(STDATA_DIR, 'test_inline_labels.npy'), test_labels)"
   ]
  },
  {
   "cell_type": "code",
   "execution_count": null,
   "metadata": {},
   "outputs": [],
   "source": []
  }
 ],
 "metadata": {
  "kernelspec": {
   "display_name": "lightning",
   "language": "python",
   "name": "python3"
  },
  "language_info": {
   "codemirror_mode": {
    "name": "ipython",
    "version": 3
   },
   "file_extension": ".py",
   "mimetype": "text/x-python",
   "name": "python",
   "nbconvert_exporter": "python",
   "pygments_lexer": "ipython3",
   "version": "3.9.13"
  },
  "orig_nbformat": 4,
  "vscode": {
   "interpreter": {
    "hash": "1b09cd0fb50ff65360a95b6ae989c90472b6f8f24fcb7acdc1d5c638e9f7df11"
   }
  }
 },
 "nbformat": 4,
 "nbformat_minor": 2
}
