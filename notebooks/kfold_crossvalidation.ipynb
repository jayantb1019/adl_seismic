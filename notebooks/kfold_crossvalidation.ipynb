{
 "cells": [
  {
   "cell_type": "markdown",
   "metadata": {},
   "source": [
    "# K-Fold Cross Validation\n",
    "Using Pytorch Lightning DataModule & Scikit-Learn"
   ]
  },
  {
   "cell_type": "code",
   "execution_count": 3,
   "metadata": {},
   "outputs": [],
   "source": [
    "!pip install -qq torch_geometric torch_sparse"
   ]
  },
  {
   "cell_type": "code",
   "execution_count": null,
   "metadata": {},
   "outputs": [],
   "source": [
    "\n",
    "from pytorch_lightning import LightningDataModule\n",
    "from torch_geometric.datasets import TUDataset\n",
    "from torch_geometric.data import DataLoader\n",
    "from sklearn.model_selection import KFold"
   ]
  },
  {
   "cell_type": "code",
   "execution_count": null,
   "metadata": {},
   "outputs": [],
   "source": [
    "class ProteinsKFoldDataModule(LightningDataModule):\n",
    "    def __init__(\n",
    "            self,\n",
    "            data_dir: str = \"data/\",\n",
    "            k: int = 1,  # fold number\n",
    "            split_seed: int = 12345,  # split needs to be always the same for correct cross validation\n",
    "            num_splits: int = 10,\n",
    "            batch_size: int = 32,\n",
    "            num_workers: int = 0,\n",
    "            pin_memory: bool = False\n",
    "        ):\n",
    "        super().__init__()\n",
    "        \n",
    "        # this line allows to access init params with 'self.hparams' attribute\n",
    "        self.save_hyperparameters(logger=False)\n",
    "\n",
    "        # num_splits = 10 means our dataset will be split to 10 parts\n",
    "        # so we train on 90% of the data and validate on 10%\n",
    "        assert 1 <= self.k <= self.num_splits, \"incorrect fold number\"\n",
    "        \n",
    "        # data transformations\n",
    "        self.transforms = None\n",
    "\n",
    "        self.data_train: Optional[Dataset] = None\n",
    "        self.data_val: Optional[Dataset] = None\n",
    "\n",
    "    @property\n",
    "    def num_node_features() -> int:\n",
    "        return 4\n",
    "\n",
    "    @property\n",
    "    def num_classes() -> int:\n",
    "        return 2\n",
    "\n",
    "    def setup(self, stage=None):\n",
    "        if not self.data_train and not self.data_val:\n",
    "            dataset_full = TUDataset(self.hparams.data_dir, name=\"PROTEINS\", use_node_attr=True, transform=self.transforms)\n",
    "\n",
    "            # choose fold to train on\n",
    "            kf = KFold(n_splits=self.hparams.num_splits, shuffle=True, random_state=self.hparams.split_seed)\n",
    "            all_splits = [k for k in kf.split(dataset_full)]\n",
    "            train_indexes, val_indexes = all_splits[self.hparams.k]\n",
    "            train_indexes, val_indexes = train_indexes.tolist(), val_indexes.tolist()\n",
    "\n",
    "            self.data_train, self.data_val = dataset_full[train_indexes], dataset_full[val_indexes]\n",
    "\n",
    "    def train_dataloader(self):\n",
    "        return DataLoader(dataset=self.data_train, batch_size=self.hparams.batch_size, num_workers=self.hparams.num_workers,\n",
    "                          pin_memory=self.hparams.pin_memory, shuffle=True)\n",
    "\n",
    "    def val_dataloader(self):\n",
    "        return DataLoader(dataset=self.data_val, batch_size=self.hparams.batch_size, num_workers=self.hparams.num_workers,\n",
    "                          pin_memory=self.hparams.pin_memory)"
   ]
  },
  {
   "cell_type": "code",
   "execution_count": null,
   "metadata": {},
   "outputs": [],
   "source": [
    "results = []\n",
    "nums_folds = 10\n",
    "split_seed = 12345\n",
    "\n",
    "for k in range(nums_folds):\n",
    "    datamodule = ProteinsKFoldDataModule(k=k, num_folds=num_folds, split_seed=split_seed, ...)\n",
    "    datamodule.prepare_data()\n",
    "    datamodule.setup()\n",
    "\n",
    "    # here we train the model on given split...\n",
    "    # call trainer.fit \n",
    "    # then switch to eval mode\n",
    "    # load model checkpoint \n",
    "    # inference = model(input)\n",
    "    # calculate psnr, ssim \n",
    "    # return them\n",
    "    results.append(results)\n",
    "\n",
    "score = sum(results) / num_folds"
   ]
  }
 ],
 "metadata": {
  "kernelspec": {
   "display_name": "lightning-mps",
   "language": "python",
   "name": "python3"
  },
  "language_info": {
   "codemirror_mode": {
    "name": "ipython",
    "version": 3
   },
   "file_extension": ".py",
   "mimetype": "text/x-python",
   "name": "python",
   "nbconvert_exporter": "python",
   "pygments_lexer": "ipython3",
   "version": "3.8.13"
  },
  "orig_nbformat": 4,
  "vscode": {
   "interpreter": {
    "hash": "d2c907bca53a7d9e4cb9f6c9a4a8aa485bc0ecaa5a09b6a2a298e9735e5934f2"
   }
  }
 },
 "nbformat": 4,
 "nbformat_minor": 2
}
