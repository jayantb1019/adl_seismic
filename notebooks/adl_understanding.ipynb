{
 "cells": [
  {
   "cell_type": "code",
   "execution_count": 1,
   "metadata": {},
   "outputs": [],
   "source": [
    "import numpy as np\n",
    "import torch "
   ]
  },
  {
   "cell_type": "code",
   "execution_count": null,
   "metadata": {},
   "outputs": [],
   "source": []
  },
  {
   "cell_type": "code",
   "execution_count": null,
   "metadata": {},
   "outputs": [],
   "source": [
    "def atw_kernel(ker_base, image_dtype, Cin, level=1) : # level = J \n",
    "        zeros_len = - 1 + 2**(level-1) # 2^(J-1) -1 zeros \n",
    "        ker_len = zeros_len * 4 + len(ker_base)\n",
    "        kernel_1d = np.zeros((ker_len,)) \n",
    "        kernel_1d[::zeros_len+1] = ker_base/np.sum(ker_base)\n",
    "        kernel_2d = np.tensordot(kernel_1d, np.transpose(kernel_1d), axes=0)  # kernel_2d = kernel_1d dot kernel_1d\n",
    "        \n",
    "        # convert to tensor \n",
    "        kernel_size = kernel_2d.shape[0]\n",
    "        kernel_torch = torch.tensor(kernel_2d, dtype=image_dtype).unsqueeze(0).expand(Cin, 1, kernel_size, kernel_size)\n",
    "        return  kernel_torch, kernel_size"
   ]
  }
 ],
 "metadata": {
  "kernelspec": {
   "display_name": "lightning-mps",
   "language": "python",
   "name": "python3"
  },
  "language_info": {
   "codemirror_mode": {
    "name": "ipython",
    "version": 3
   },
   "file_extension": ".py",
   "mimetype": "text/x-python",
   "name": "python",
   "nbconvert_exporter": "python",
   "pygments_lexer": "ipython3",
   "version": "3.8.13"
  },
  "orig_nbformat": 4,
  "vscode": {
   "interpreter": {
    "hash": "d2c907bca53a7d9e4cb9f6c9a4a8aa485bc0ecaa5a09b6a2a298e9735e5934f2"
   }
  }
 },
 "nbformat": 4,
 "nbformat_minor": 2
}
