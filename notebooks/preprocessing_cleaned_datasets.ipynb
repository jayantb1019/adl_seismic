{
 "cells": [
  {
   "cell_type": "code",
   "execution_count": 1,
   "metadata": {},
   "outputs": [],
   "source": [
    "import numpy as np \n",
    "import pandas as pd \n",
    "from tqdm import tqdm\n",
    "\n",
    "import sys \n",
    "sys.path.append('../utils')\n",
    "\n",
    "\n",
    "import matplotlib as mpl\n",
    "mpl.rcParams['figure.dpi'] = 1000\n",
    "import matplotlib.pyplot as plt\n",
    "\n",
    "from preprocess import gain"
   ]
  },
  {
   "cell_type": "code",
   "execution_count": 2,
   "metadata": {},
   "outputs": [],
   "source": [
    "## cleaned dataset paths \n",
    "\n",
    "# interpretation\n",
    "INTERPRETATION_VOL_PATH_CLEAN = '../data/clean/f3_interpretation/inline_vol.npy'\n",
    "INTERPRETATION_LABEL_PATH_CLEAN = '../data/clean/f3_interpretation/inline_label.npy'\n",
    "\n",
    "# faciesmark dataset \n",
    "FACIESMARK_VOL_PATH_CLEAN = '../data/clean/faciesmark/raw/seismic_entire_volume.npy'\n",
    "FACIESMARK_LABEL_PATH_CLEAN = '../data/clean/faciesmark/raw/labels_entire_volume.npy'\n",
    "\n",
    "\n",
    "# stdata12 dataset \n",
    "STDATA_VOL_PATH_CLEAN = '../data/clean/stdata12/stdata_12_amplitude.npy'\n",
    "STDATA_LABEL_PATH_CLEAN = '../data/clean/stdata12/stdata_12_labels.npy'\n",
    "\n",
    "# PREPROCESSED FILE PATHS \n",
    "\n",
    "# interpretation\n",
    "INTERPRETATION_VOL_PATH_PREPROCESSED = '../data/preprocessed/f3_interpretation/inline_vol.npy'\n",
    "INTERPRETATION_LABEL_PATH_PREPROCESSED = '../data/preprocessed/f3_interpretation/inline_label.npy'\n",
    "\n",
    "# faciesmark dataset \n",
    "FACIESMARK_VOL_PATH_PREPROCESSED = '../data/preprocessed/faciesmark/raw/seismic_entire_volume.npy'\n",
    "FACIESMARK_LABEL_PATH_PREPROCESSED = '../data/preprocessed/faciesmark/raw/labels_entire_volume.npy'\n",
    "\n",
    "\n",
    "# stdata12 dataset \n",
    "STDATA_VOL_PATH_PREPROCESSED = '../data/preprocessed/stdata12/stdata_12_amplitude.npy'\n",
    "STDATA_LABEL_PATH_PREPROCESSED = '../data/preprocessed/stdata12/stdata_12_labels.npy'\n"
   ]
  },
  {
   "cell_type": "markdown",
   "metadata": {},
   "source": [
    "## Interpretation"
   ]
  },
  {
   "cell_type": "code",
   "execution_count": 5,
   "metadata": {},
   "outputs": [
    {
     "data": {
      "text/plain": [
       "((601, 951, 361), (601, 951, 361))"
      ]
     },
     "execution_count": 5,
     "metadata": {},
     "output_type": "execute_result"
    }
   ],
   "source": [
    "vol_int = np.load(INTERPRETATION_VOL_PATH_CLEAN)\n",
    "label_int = np.load(INTERPRETATION_LABEL_PATH_CLEAN)\n",
    "\n",
    "vol_int.shape, label_int.shape"
   ]
  },
  {
   "cell_type": "code",
   "execution_count": 6,
   "metadata": {},
   "outputs": [
    {
     "name": "stdout",
     "output_type": "stream",
     "text": [
      "\n",
      "    Shape : (601, 951, 361)\n",
      "    Mean : 2.8666460514068604\n",
      "    Stdev : 2676.749755859375\n",
      "    Min : -32767.0\n",
      "    Median : 28.0\n",
      "    99th Percentile of Abs : 8611.0\n",
      "    Max : 32767.0\n",
      "    Null values : 0\n",
      "    \n",
      "    \n"
     ]
    }
   ],
   "source": [
    "def summary_stats(vol) : \n",
    "    print(f'''\n",
    "    Shape : {vol.shape}\n",
    "    Mean : {np.mean(vol)}\n",
    "    Stdev : {np.std(vol)}\n",
    "    Min : {np.min(vol)}\n",
    "    Median : {np.median(vol)}\n",
    "    99th Percentile of Abs : {np.quantile(np.abs(vol), 0.99)}\n",
    "    Max : {np.max(vol)}\n",
    "    Null values : {np.sum(np.isnan(vol))}\n",
    "    \n",
    "    ''')\n",
    "\n",
    "summary_stats(vol_int)"
   ]
  },
  {
   "cell_type": "code",
   "execution_count": 7,
   "metadata": {},
   "outputs": [
    {
     "name": "stdout",
     "output_type": "stream",
     "text": [
      "\n",
      "    Shape : (601, 951, 361)\n",
      "    Mean : 15.75139331817627\n",
      "    Stdev : 2544.2041015625\n",
      "    Min : -8611.0\n",
      "    Median : 28.0\n",
      "    99th Percentile of Abs : 8611.0\n",
      "    Max : 8611.0\n",
      "    Null values : 0\n",
      "    \n",
      "    \n"
     ]
    }
   ],
   "source": [
    "# Clipping data to remove outliers \n",
    "\n",
    "abs_99 = np.quantile(np.abs(vol_int), 0.99)\n",
    "vol_int_c = np.clip(vol_int, -abs_99, abs_99)\n",
    "\n",
    "summary_stats(vol_int_c)"
   ]
  },
  {
   "cell_type": "code",
   "execution_count": 8,
   "metadata": {},
   "outputs": [
    {
     "name": "stderr",
     "output_type": "stream",
     "text": [
      "100%|██████████| 601/601 [05:17<00:00,  1.89it/s]\n"
     ]
    },
    {
     "name": "stdout",
     "output_type": "stream",
     "text": [
      "\n",
      "    Shape : (601, 951, 361)\n",
      "    Mean : 0.011457464657723904\n",
      "    Stdev : 0.9999324083328247\n",
      "    Min : -5.015366077423096\n",
      "    Median : 0.01830044947564602\n",
      "    99th Percentile of Abs : 2.2190851926803603\n",
      "    Max : 5.151999473571777\n",
      "    Null values : 0\n",
      "    \n",
      "    \n"
     ]
    }
   ],
   "source": [
    "# applying AGC\n",
    "agc_window = 64 \n",
    "f_s = 4e-3 \n",
    "\n",
    "vol_int_c_g = np.zeros_like(vol_int)\n",
    "\n",
    "for i in tqdm(range(vol_int.shape[0])) : \n",
    "    vol_int_c_g[i,:,:] = gain(vol_int_c[i,:,:], f_s , 'agc',agc_window * f_s, 2)\n",
    "\n",
    "summary_stats(vol_int_c_g)"
   ]
  },
  {
   "cell_type": "code",
   "execution_count": 9,
   "metadata": {},
   "outputs": [
    {
     "name": "stdout",
     "output_type": "stream",
     "text": [
      "\n",
      "    Shape : (601, 951, 361)\n",
      "    Mean : 0.002223885850980878\n",
      "    Stdev : 0.1940867155790329\n",
      "    Min : -0.9734795689582825\n",
      "    Median : 0.0035521062090992928\n",
      "    99th Percentile of Abs : 0.43072309792041796\n",
      "    Max : 1.0\n",
      "    Null values : 0\n",
      "    \n",
      "    \n"
     ]
    }
   ],
   "source": [
    "# scale to -1,1\n",
    "\n",
    "max_vol_int_c_g = np.max(vol_int_c_g)\n",
    "\n",
    "vol_int_c_g_sc = vol_int_c_g / max_vol_int_c_g\n",
    "\n",
    "summary_stats(vol_int_c_g_sc)"
   ]
  },
  {
   "cell_type": "code",
   "execution_count": 10,
   "metadata": {},
   "outputs": [
    {
     "data": {
      "text/plain": [
       "CompletedProcess(args='cp ../data/clean/f3_interpretation/inline_label.npy ../data/preprocessed/f3_interpretation/inline_label.npy', returncode=0)"
      ]
     },
     "execution_count": 10,
     "metadata": {},
     "output_type": "execute_result"
    }
   ],
   "source": [
    "# write to file\n",
    "np.save(INTERPRETATION_VOL_PATH_PREPROCESSED, vol_int_c_g_sc)\n",
    "\n",
    "import subprocess\n",
    "subprocess.run(f'cp {INTERPRETATION_LABEL_PATH_CLEAN} {INTERPRETATION_LABEL_PATH_PREPROCESSED}',shell=True)"
   ]
  },
  {
   "attachments": {},
   "cell_type": "markdown",
   "metadata": {},
   "source": [
    "## FACIESMARK\n",
    "\n",
    "AGC seems applied to Faciesmark. Hence, not performing any of the preprocessing operations."
   ]
  },
  {
   "cell_type": "code",
   "execution_count": 3,
   "metadata": {},
   "outputs": [],
   "source": [
    "# vol_f = np.load(FACIESMARK_VOL_PATH_CLEAN)\n",
    "# label_f = np.load(FACIESMARK_LABEL_PATH_CLEAN)\n",
    "\n",
    "# vol_f.shape, label_f.shape"
   ]
  },
  {
   "cell_type": "code",
   "execution_count": 4,
   "metadata": {},
   "outputs": [],
   "source": [
    "# summary_stats(vol_f)"
   ]
  },
  {
   "cell_type": "code",
   "execution_count": 5,
   "metadata": {},
   "outputs": [],
   "source": [
    "# # applying agc window\n",
    "# agc_window = 64 \n",
    "# f_s = 4e-3 \n",
    "\n",
    "# vol_f_g = np.zeros_like(vol_f)\n",
    "\n",
    "# for i in tqdm(range(vol_f.shape[0])) : \n",
    "#     vol_f_g[i,:,:] = gain(vol_f[i,:,:], f_s , 'agc',agc_window * f_s, 2)\n",
    "\n",
    "# summary_stats(vol_f_g)\n"
   ]
  },
  {
   "cell_type": "code",
   "execution_count": 6,
   "metadata": {},
   "outputs": [],
   "source": [
    "# not clipping for outliers in faciesmark since it already looks treated."
   ]
  },
  {
   "cell_type": "code",
   "execution_count": 7,
   "metadata": {},
   "outputs": [],
   "source": [
    "# scale to -1,1\n",
    "\n",
    "# max_vol_f_c_g = np.max(vol_f_c_g)\n",
    "\n",
    "# vol_f_c_g_sc = vol_f_c_g / max_vol_f_c_g\n",
    "\n",
    "# summary_stats(vol_f_c_g_sc)"
   ]
  },
  {
   "cell_type": "code",
   "execution_count": 8,
   "metadata": {},
   "outputs": [
    {
     "data": {
      "text/plain": [
       "CompletedProcess(args='cp ../data/clean/faciesmark/raw/seismic_entire_volume.npy ../data/preprocessed/faciesmark/raw/seismic_entire_volume.npy', returncode=0)"
      ]
     },
     "execution_count": 8,
     "metadata": {},
     "output_type": "execute_result"
    }
   ],
   "source": [
    "\n",
    "import subprocess\n",
    "subprocess.run(f'cp {FACIESMARK_LABEL_PATH_CLEAN} {FACIESMARK_LABEL_PATH_PREPROCESSED}',shell=True)\n",
    "subprocess.run(f'cp {FACIESMARK_VOL_PATH_CLEAN} {FACIESMARK_VOL_PATH_PREPROCESSED}',shell=True)"
   ]
  },
  {
   "cell_type": "markdown",
   "metadata": {},
   "source": [
    "## STDATA-12"
   ]
  },
  {
   "cell_type": "code",
   "execution_count": 9,
   "metadata": {},
   "outputs": [],
   "source": [
    "vol_st= np.load(STDATA_VOL_PATH_CLEAN)\n",
    "label_st = np.load(STDATA_LABEL_PATH_CLEAN)"
   ]
  },
  {
   "cell_type": "code",
   "execution_count": 10,
   "metadata": {},
   "outputs": [
    {
     "ename": "NameError",
     "evalue": "name 'summary_stats' is not defined",
     "output_type": "error",
     "traceback": [
      "\u001b[0;31m---------------------------------------------------------------------------\u001b[0m",
      "\u001b[0;31mNameError\u001b[0m                                 Traceback (most recent call last)",
      "Cell \u001b[0;32mIn [10], line 1\u001b[0m\n\u001b[0;32m----> 1\u001b[0m summary_stats(vol_st)\n",
      "\u001b[0;31mNameError\u001b[0m: name 'summary_stats' is not defined"
     ]
    }
   ],
   "source": [
    "summary_stats(vol_st)"
   ]
  },
  {
   "cell_type": "code",
   "execution_count": null,
   "metadata": {},
   "outputs": [
    {
     "name": "stdout",
     "output_type": "stream",
     "text": [
      "\n",
      "    Shape : (4, 951, 362)\n",
      "    Mean : 19.99727439880371\n",
      "    Stdev : 2582.07568359375\n",
      "    Min : -8838.7060546875\n",
      "    Median : 0.0\n",
      "    99th Percentile of Abs : 8838.7060546875\n",
      "    Max : 8838.7060546875\n",
      "    Null values : 0\n",
      "    \n",
      "    \n"
     ]
    }
   ],
   "source": [
    "# Clipping data to remove outliers \n",
    "\n",
    "abs_99 = np.quantile(np.abs(vol_st), 0.99)\n",
    "vol_st_c = np.clip(vol_st, -abs_99, abs_99)\n",
    "\n",
    "summary_stats(vol_st_c)"
   ]
  },
  {
   "cell_type": "code",
   "execution_count": null,
   "metadata": {},
   "outputs": [
    {
     "name": "stderr",
     "output_type": "stream",
     "text": [
      "100%|██████████| 4/4 [00:02<00:00,  1.89it/s]"
     ]
    },
    {
     "name": "stdout",
     "output_type": "stream",
     "text": [
      "\n",
      "    Shape : (4, 951, 362)\n",
      "    Mean : 0.010058555752038956\n",
      "    Stdev : 0.9999493956565857\n",
      "    Min : -4.113037109375\n",
      "    Median : 0.0\n",
      "    99th Percentile of Abs : 2.219185905456543\n",
      "    Max : 4.202054023742676\n",
      "    Null values : 0\n",
      "    \n",
      "    \n"
     ]
    },
    {
     "name": "stderr",
     "output_type": "stream",
     "text": [
      "\n"
     ]
    }
   ],
   "source": [
    "# applying AGC\n",
    "agc_window = 64 \n",
    "f_s = 4e-3 \n",
    "\n",
    "vol_st_c_g = np.zeros_like(vol_st)\n",
    "\n",
    "for i in tqdm(range(vol_st.shape[0])) : \n",
    "    vol_st_c_g[i,:,:] = gain(vol_st_c[i,:,:], f_s , 'agc',agc_window * f_s, 2)\n",
    "\n",
    "summary_stats(vol_st_c_g)"
   ]
  },
  {
   "cell_type": "code",
   "execution_count": null,
   "metadata": {},
   "outputs": [
    {
     "name": "stdout",
     "output_type": "stream",
     "text": [
      "\n",
      "    Shape : (4, 951, 362)\n",
      "    Mean : 0.0023937253281474113\n",
      "    Stdev : 0.23796683549880981\n",
      "    Min : -0.9788158535957336\n",
      "    Median : 0.0\n",
      "    99th Percentile of Abs : 0.5281193411350251\n",
      "    Max : 1.0\n",
      "    Null values : 0\n",
      "    \n",
      "    \n"
     ]
    }
   ],
   "source": [
    "# scale to -1,1\n",
    "\n",
    "max_vol_st_c_g = np.max(vol_st_c_g)\n",
    "\n",
    "vol_st_c_g_sc = vol_st_c_g / max_vol_st_c_g\n",
    "\n",
    "summary_stats(vol_st_c_g_sc)"
   ]
  },
  {
   "cell_type": "code",
   "execution_count": null,
   "metadata": {},
   "outputs": [
    {
     "data": {
      "text/plain": [
       "CompletedProcess(args='cp ../data/clean/stdata12/stdata_12_labels.npy ../data/preprocessed/stdata12/stdata_12_labels.npy', returncode=0)"
      ]
     },
     "execution_count": 25,
     "metadata": {},
     "output_type": "execute_result"
    }
   ],
   "source": [
    "# write to file\n",
    "np.save(STDATA_VOL_PATH_PREPROCESSED, vol_st_c_g_sc)\n",
    "\n",
    "import subprocess\n",
    "subprocess.run(f'cp {STDATA_LABEL_PATH_CLEAN} {STDATA_LABEL_PATH_PREPROCESSED}',shell=True)"
   ]
  },
  {
   "cell_type": "code",
   "execution_count": null,
   "metadata": {},
   "outputs": [],
   "source": []
  }
 ],
 "metadata": {
  "kernelspec": {
   "display_name": "lightning",
   "language": "python",
   "name": "python3"
  },
  "language_info": {
   "codemirror_mode": {
    "name": "ipython",
    "version": 3
   },
   "file_extension": ".py",
   "mimetype": "text/x-python",
   "name": "python",
   "nbconvert_exporter": "python",
   "pygments_lexer": "ipython3",
   "version": "3.9.13"
  },
  "orig_nbformat": 4,
  "vscode": {
   "interpreter": {
    "hash": "1b09cd0fb50ff65360a95b6ae989c90472b6f8f24fcb7acdc1d5c638e9f7df11"
   }
  }
 },
 "nbformat": 4,
 "nbformat_minor": 2
}
